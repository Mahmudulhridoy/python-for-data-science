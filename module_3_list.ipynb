{
 "cells": [
  {
   "cell_type": "markdown",
   "id": "5f5aabaa-c6f7-4d14-bbeb-dd84a237ef82",
   "metadata": {},
   "source": [
    "## List and List Methods"
   ]
  },
  {
   "cell_type": "code",
   "execution_count": 6,
   "id": "1c9722aa-55a4-4fc8-a135-56ee4db1ba9d",
   "metadata": {},
   "outputs": [
    {
     "name": "stdout",
     "output_type": "stream",
     "text": [
      "30\n"
     ]
    }
   ],
   "source": [
    "numbers=[10,20, 30,40,50, 500,60]\n",
    "print(numbers[2])"
   ]
  },
  {
   "cell_type": "code",
   "execution_count": 4,
   "id": "9bd53d3d-a2a4-481a-81b2-a130b97f0614",
   "metadata": {},
   "outputs": [
    {
     "name": "stdout",
     "output_type": "stream",
     "text": [
      "[10, 20, 50, 40, 50]\n"
     ]
    }
   ],
   "source": [
    "numbers[2]=50\n",
    "print(numbers)"
   ]
  },
  {
   "cell_type": "code",
   "execution_count": 5,
   "id": "69fbf3c2-9c67-4a8a-b881-68889caa2891",
   "metadata": {},
   "outputs": [
    {
     "name": "stdout",
     "output_type": "stream",
     "text": [
      "[10, 50, 50]\n"
     ]
    }
   ],
   "source": [
    "new_list=numbers[0:5:2]\n",
    "print(new_list)"
   ]
  },
  {
   "cell_type": "code",
   "execution_count": 7,
   "id": "49102dbd-eafb-428d-931e-f77c0d75d55e",
   "metadata": {},
   "outputs": [
    {
     "name": "stdout",
     "output_type": "stream",
     "text": [
      "[10, 20, 30, 40, 50, 500, 60, 80]\n"
     ]
    }
   ],
   "source": [
    "## modification\n",
    "## adding a item\n",
    "numbers.append(80)\n",
    "print(numbers)"
   ]
  },
  {
   "cell_type": "code",
   "execution_count": 31,
   "id": "5d66062b-a158-4a3d-a57a-046af20687b1",
   "metadata": {},
   "outputs": [
    {
     "name": "stdout",
     "output_type": "stream",
     "text": [
      "[45, 500, 60, 50, 45, 30, 20, 10]\n"
     ]
    }
   ],
   "source": [
    "\n",
    "##insert at any position\n",
    "numbers.insert(0,45)\n",
    "print(numbers)"
   ]
  },
  {
   "cell_type": "code",
   "execution_count": 9,
   "id": "633f8b6c-b7a5-4433-a351-2bbcfcb9707b",
   "metadata": {},
   "outputs": [
    {
     "name": "stdout",
     "output_type": "stream",
     "text": [
      "[45, 10, 20, 30, 40, 50, 500, 60]\n",
      "[45, 10, 20, 30, 50, 500, 60]\n"
     ]
    }
   ],
   "source": [
    "## delete the last element\n",
    "numbers.pop()\n",
    "print(numbers)\n",
    "numbers.remove(40)\n",
    "print(numbers)"
   ]
  },
  {
   "cell_type": "code",
   "execution_count": 10,
   "id": "af0c8c89-6509-4d7e-a647-88a8b9e9337e",
   "metadata": {},
   "outputs": [
    {
     "name": "stdout",
     "output_type": "stream",
     "text": [
      "[10.34, 345.56, 'mahmudul', 455, 'hridoy']\n"
     ]
    }
   ],
   "source": [
    "number=[10.340, 345.56, \"mahmudul\", 455, \"hridoy\"]\n",
    "print(number)"
   ]
  },
  {
   "cell_type": "code",
   "execution_count": 11,
   "id": "561ec88f-1eca-4437-a181-58084811c836",
   "metadata": {},
   "outputs": [
    {
     "name": "stdout",
     "output_type": "stream",
     "text": [
      "[[100, 20, 30], [14, 24, 32], [13, 12, 12]]\n"
     ]
    }
   ],
   "source": [
    "list_er_moddhe_list=[[100, 20, 30], [14,24,32], [13,12,12]]\n",
    "print(list_er_moddhe_list)"
   ]
  },
  {
   "cell_type": "code",
   "execution_count": 14,
   "id": "ee738a8b-03e9-4647-bd17-a0ae488bc231",
   "metadata": {},
   "outputs": [
    {
     "name": "stdout",
     "output_type": "stream",
     "text": [
      "[10, 20, 30, 45, 50, 60, 500]\n",
      "[500, 60, 50, 45, 30, 20, 10]\n"
     ]
    }
   ],
   "source": [
    "numbers.sort()\n",
    "print(numbers)\n",
    "numbers.reverse()\n",
    "print(numbers)"
   ]
  },
  {
   "cell_type": "markdown",
   "id": "c94fa16d-e373-4a87-a286-8a864551d51e",
   "metadata": {},
   "source": [
    "## Stack as List"
   ]
  },
  {
   "cell_type": "code",
   "execution_count": 30,
   "id": "bc54cf33-8089-4c98-b3aa-f200b1932d17",
   "metadata": {},
   "outputs": [
    {
     "name": "stdout",
     "output_type": "stream",
     "text": [
      "0\n",
      "<class 'list'>\n",
      "[1, 2, 3, 5, 6]\n",
      " top element: 6\n",
      " top element: 5\n",
      " top element: 3\n",
      "[1, 2]\n"
     ]
    }
   ],
   "source": [
    "stack=[]\n",
    "print(len(stack))\n",
    "print(type(stack))\n",
    "## stack e push\n",
    "stack.append(1)\n",
    "stack.append(2)\n",
    "stack.append(3)\n",
    "\n",
    "stack.append(5)\n",
    "stack.append(6)\n",
    "print(stack)\n",
    "\n",
    "print(f\" top element: {stack[-1]}\")\n",
    "stack.pop()\n",
    "print(f\" top element: {stack[-1]}\")\n",
    "stack.pop()\n",
    "\n",
    "print(f\" top element: {stack[-1]}\")\n",
    "stack.pop()\n",
    "print(stack)\n",
    "\n"
   ]
  },
  {
   "cell_type": "markdown",
   "id": "d65b0ad2-fa5a-4438-963d-63d2b9e08679",
   "metadata": {},
   "source": [
    "## queue as  Stack"
   ]
  },
  {
   "cell_type": "code",
   "execution_count": 23,
   "id": "cbf1e257-d1d6-4969-abd4-758bb48b59ec",
   "metadata": {
    "scrolled": true
   },
   "outputs": [
    {
     "name": "stdout",
     "output_type": "stream",
     "text": [
      "queue e front e 1\n",
      "1\n",
      "queue e front e 2\n",
      "2\n",
      "queue e front e 3\n",
      "3\n",
      "queue e front e 4\n",
      "4\n",
      "queue e front e 5\n",
      "5\n",
      "queue e front e 6\n",
      "6\n",
      "queue e front e 7\n",
      "7\n"
     ]
    }
   ],
   "source": [
    "queue=[]\n",
    "queue.append(1)\n",
    "queue.append(2)\n",
    "queue.append(3)\n",
    "queue.append(4)\n",
    "\n",
    "queue.append(5)\n",
    "queue.append(6)\n",
    "queue.append(7)\n",
    "queue.append(8)\n",
    "queue.append(9)\n",
    "\n",
    "## accessing thhe front\n",
    "print(f\"queue e front e {queue[0]}\")\n",
    "print(queue.pop(0))\n",
    "print(f\"queue e front e {queue[0]}\")\n",
    "print(queue.pop(0))\n",
    "\n",
    "\n",
    "print(f\"queue e front e {queue[0]}\")\n",
    "print(queue.pop(0))\n",
    "\n",
    "print(f\"queue e front e {queue[0]}\")\n",
    "print(queue.pop(0))\n",
    "\n",
    "print(f\"queue e front e {queue[0]}\")\n",
    "print(queue.pop(0))\n",
    "\n",
    "print(f\"queue e front e {queue[0]}\")\n",
    "print(queue.pop(0))\n",
    "\n",
    "print(f\"queue e front e {queue[0]}\")\n",
    "print(queue.pop(0))\n"
   ]
  },
  {
   "cell_type": "markdown",
   "id": "7fc7bab8-d16e-47ab-a553-ad415cbc78af",
   "metadata": {},
   "source": [
    "## List Comprehension"
   ]
  },
  {
   "cell_type": "code",
   "execution_count": 1,
   "id": "797edb3e-e203-4646-80b7-113ab729e4ac",
   "metadata": {},
   "outputs": [
    {
     "name": "stdout",
     "output_type": "stream",
     "text": [
      "[0, 2, 4, 6, 8, 10, 12, 14, 16, 18, 20, 22, 24, 26, 28, 30, 32, 34, 36, 38, 40, 42, 44, 46, 48, 50, 52, 54, 56, 58, 60, 62, 64, 66, 68, 70, 72, 74, 76, 78, 80, 82, 84, 86, 88, 90, 92, 94, 96, 98]\n"
     ]
    }
   ],
   "source": [
    "even=[]\n",
    "for i in range(100):\n",
    "    if i%2==0:\n",
    "        even.append(i)\n",
    "\n",
    "print(even)"
   ]
  },
  {
   "cell_type": "code",
   "execution_count": 2,
   "id": "5525fe2e-59ed-4310-834b-d9d26f4a176a",
   "metadata": {},
   "outputs": [
    {
     "name": "stdout",
     "output_type": "stream",
     "text": [
      "[2, 6, 10, 14, 18, 22, 26, 30, 34, 38, 42, 46, 50, 54, 58, 62, 66, 70, 74, 78, 82, 86, 90, 94, 98, 102, 106, 110, 114, 118, 122, 126, 130, 134, 138, 142, 146, 150, 154, 158, 162, 166, 170, 174, 178, 182, 186, 190, 194, 198]\n"
     ]
    }
   ],
   "source": [
    "even=[]\n",
    "random_list=[x*2 for x in range(1, 101) if x%2!=0]\n",
    "print(random_list)"
   ]
  },
  {
   "cell_type": "code",
   "execution_count": 5,
   "id": "e97b58f5-c9d2-4da9-a29b-4d26c273e99f",
   "metadata": {},
   "outputs": [
    {
     "name": "stdout",
     "output_type": "stream",
     "text": [
      "['Apple', 'Orange', 'Lichi']\n"
     ]
    }
   ],
   "source": [
    "fruits=['apple', 'orange', 'lichi']\n",
    "capitalize_fruits=[]\n",
    "for fruit in fruits:\n",
    "    capitalize_fruits.append(fruit.capitalize())\n",
    "print(capitalize_fruits)"
   ]
  },
  {
   "cell_type": "code",
   "execution_count": 8,
   "id": "7ff28ea0-eecd-4fdc-8e05-e2ae0961127d",
   "metadata": {},
   "outputs": [
    {
     "name": "stdout",
     "output_type": "stream",
     "text": [
      "['APPLE', 'ORANGE', 'LICHI']\n"
     ]
    }
   ],
   "source": [
    "fruits=['apple', 'orange', 'lichi']\n",
    "capitalize_fruits=[fruit.upper() for fruit in fruits]\n",
    "print(capitalize_fruits)"
   ]
  },
  {
   "cell_type": "code",
   "execution_count": null,
   "id": "e2185e1c-1c7f-4054-8039-6c979b25b69f",
   "metadata": {},
   "outputs": [],
   "source": []
  },
  {
   "cell_type": "code",
   "execution_count": null,
   "id": "7850ac43-9999-4579-b6cb-fbd06e1631ce",
   "metadata": {},
   "outputs": [],
   "source": []
  }
 ],
 "metadata": {
  "kernelspec": {
   "display_name": "Python 3 (ipykernel)",
   "language": "python",
   "name": "python3"
  },
  "language_info": {
   "codemirror_mode": {
    "name": "ipython",
    "version": 3
   },
   "file_extension": ".py",
   "mimetype": "text/x-python",
   "name": "python",
   "nbconvert_exporter": "python",
   "pygments_lexer": "ipython3",
   "version": "3.13.5"
  }
 },
 "nbformat": 4,
 "nbformat_minor": 5
}
