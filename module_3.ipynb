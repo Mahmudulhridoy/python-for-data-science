{
 "cells": [
  {
   "cell_type": "markdown",
   "id": "166831b3-2a4c-429d-a28e-fbc7c2a1bd09",
   "metadata": {},
   "source": [
    "## String in Python"
   ]
  },
  {
   "cell_type": "code",
   "execution_count": 8,
   "id": "c5809695-acc7-47fe-9866-5737d8f0f334",
   "metadata": {},
   "outputs": [
    {
     "name": "stdout",
     "output_type": "stream",
     "text": [
      "what is your name?\n",
      "<class 'str'>\n"
     ]
    }
   ],
   "source": [
    "prompt= \"what is your name?\"\n",
    "print(prompt)\n",
    "print(type(prompt))"
   ]
  },
  {
   "cell_type": "markdown",
   "id": "117e0819-be0d-40a3-ad59-4390a6c1979a",
   "metadata": {},
   "source": [
    "message=\"\"\"tell me about yourself. What are the issues you have been facing while \n",
    "learning  coding?\n",
    "\"\"\"\n",
    "print(message)"
   ]
  },
  {
   "cell_type": "markdown",
   "id": "b1d76909-34a6-4926-be06-d1219ae580d6",
   "metadata": {},
   "source": [
    "## string indexing and slicing"
   ]
  },
  {
   "cell_type": "code",
   "execution_count": 34,
   "id": "ac3f8bfb-c73d-4fdb-abab-f6f7204e48be",
   "metadata": {},
   "outputs": [
    {
     "name": "stdout",
     "output_type": "stream",
     "text": [
      "h\n",
      "mahmudul has\n",
      "huu aa \n",
      "y\n"
     ]
    }
   ],
   "source": [
    "s=\"mahmudul hasan hridoy\"\n",
    "print(s[2])\n",
    "slicing=s[0:12]\n",
    "print(slicing)\n",
    "#step use kore kora hoyeche\n",
    "print(s[2:15:2])\n",
    "print(s[-1])"
   ]
  },
  {
   "cell_type": "markdown",
   "id": "d3de3bcd-5487-43a5-84cd-8d35bdb981db",
   "metadata": {},
   "source": [
    "## String Method"
   ]
  },
  {
   "cell_type": "code",
   "execution_count": 33,
   "id": "a4bd4446-30f0-4002-8de2-3d34a485a5b9",
   "metadata": {},
   "outputs": [
    {
     "name": "stdout",
     "output_type": "stream",
     "text": [
      "59\n",
      "True\n",
      "False\n",
      "<class 'bool'>\n",
      "11\n",
      "52\n",
      "3\n",
      "False\n",
      "True\n"
     ]
    }
   ],
   "source": [
    "string=\"welcome to Phitron ML course and phitron launch it, phitron\"\n",
    "print(len(string))\n",
    "proccessed_string=string.lower()\n",
    "print(\"phitron\" in proccessed_string)\n",
    "print(\"hridoy\" in string)\n",
    "print(type(\"phitron \" in proccessed_string))\n",
    "\n",
    "# shurur dik theke kon index theke substring ta shuru hoyeche\n",
    "shuru_index=proccessed_string.find(\"phitron\")\n",
    "print(shuru_index)\n",
    "# sesher dike kon index theke substring ta shuru hoyeche\n",
    "shesh_index=proccessed_string.rfind(\"phitron\")\n",
    "print(shesh_index)\n",
    "#substirng kotobar ache\n",
    "count=proccessed_string.count(\"phitron\")\n",
    "print(count)\n",
    "#ending kon index theke hoyeche \n",
    "ending_index=proccessed_string.endswith(\".\")\n",
    "print(ending_index)\n",
    "ending_index=proccessed_string.endswith(\"n\")\n",
    "print(ending_index)\n"
   ]
  },
  {
   "cell_type": "markdown",
   "id": "6ba6e0f1-2c2f-423e-97d9-c7e7116d2914",
   "metadata": {},
   "source": [
    "## Spliting, Joining, Formatted String"
   ]
  },
  {
   "cell_type": "code",
   "execution_count": 38,
   "id": "4df33a46-940c-4033-b53d-16cb919582e4",
   "metadata": {},
   "outputs": [
    {
     "name": "stdout",
     "output_type": "stream",
     "text": [
      "['what', 'is', 'phitron', '?']\n",
      "<class 'list'>\n",
      "what-is-phitron-?\n",
      "<class 'str'>\n"
     ]
    }
   ],
   "source": [
    "prompt=\"what is phitron ?\"\n",
    "tokens=prompt.split(\" \") #kichu na dile space or opor depend kore split korbe, kichu dile otar opor depend kore korbe\n",
    "print(tokens)\n",
    "print(type(tokens))\n",
    "sentence=\"-\".join(tokens)\n",
    "print(sentence)\n",
    "print(type(sentence))"
   ]
  },
  {
   "cell_type": "markdown",
   "id": "e6951795-6242-40bd-9a91-12ff554f0f94",
   "metadata": {},
   "source": [
    "### Formatted String"
   ]
  },
  {
   "cell_type": "code",
   "execution_count": 52,
   "id": "06dd6e5f-6bd3-4575-8816-dbbf116036b8",
   "metadata": {},
   "outputs": [
    {
     "name": "stdout",
     "output_type": "stream",
     "text": [
      "His name is MAHMUDUL. He is 23 years old. He is 5.8 feet tall\n",
      "the model accuracy is 10.5555\n",
      "the model accuracy in percentage is 55.55%\n"
     ]
    }
   ],
   "source": [
    "name=\"mahmudul\"\n",
    "age=23\n",
    "height=5.75678966\n",
    "print(f\"His name is {name.upper()}. He is {age} years old. He is {height:.2} feet tall\")\n",
    "model_accuracy=0.5555\n",
    "print(f\"the model accuracy is {model_accuracy+10}\")\n",
    "## percentage accuracy\n",
    "percentage=f\"the model accuracy in percentage is {model_accuracy:.2%}\"\n",
    "print(percentage)"
   ]
  },
  {
   "cell_type": "markdown",
   "id": "8a2ffdee-ce8e-41dd-a4b1-080a0f641c65",
   "metadata": {},
   "source": [
    "## list and list methods"
   ]
  },
  {
   "cell_type": "code",
   "execution_count": 1,
   "id": "e9a0c368-f7a5-488c-98f6-6f78ddef151d",
   "metadata": {},
   "outputs": [
    {
     "name": "stdout",
     "output_type": "stream",
     "text": [
      "{'mahmudul ', 'coder', 'hasan', 'hridoy', 'bokachoda'}\n"
     ]
    }
   ],
   "source": [
    "list={\"mahmudul \", \"hasan\", \"hridoy\", \"bokachoda\", \"coder\"}\n",
    "print(list)"
   ]
  },
  {
   "cell_type": "code",
   "execution_count": 1,
   "id": "c8f0db93-083d-45f2-af42-5cc0dab78a54",
   "metadata": {},
   "outputs": [
    {
     "name": "stdout",
     "output_type": "stream",
     "text": [
      "i\n"
     ]
    }
   ],
   "source": [
    "word=\"pythonista\"\n",
    "print(word[-4])\n"
   ]
  },
  {
   "cell_type": "code",
   "execution_count": 3,
   "id": "b69a8cbb-e934-4f88-9d66-504973741105",
   "metadata": {},
   "outputs": [
    {
     "name": "stdout",
     "output_type": "stream",
     "text": [
      "loo\n"
     ]
    }
   ],
   "source": [
    "s=\"Helloworld\"\n",
    "print(s[2:8:2])"
   ]
  },
  {
   "cell_type": "code",
   "execution_count": 6,
   "id": "f166a0e6-abad-4e1d-bf5c-c946e70c9a2d",
   "metadata": {},
   "outputs": [
    {
     "name": "stdout",
     "output_type": "stream",
     "text": [
      "2\n",
      " blue- greeen-red\n"
     ]
    }
   ],
   "source": [
    "text=\"banana bandana\"\n",
    "print(text.count(\"ana\"))\n",
    "msg=\"red, greeen, blue\"\n",
    "colors=msg.split(\",\")\n",
    "print(\"-\".join(colors[::-1]))"
   ]
  },
  {
   "cell_type": "code",
   "execution_count": 7,
   "id": "d2390dd8-9ec9-41dd-b7e3-1a57d1dd630e",
   "metadata": {},
   "outputs": [
    {
     "name": "stdout",
     "output_type": "stream",
     "text": [
      "[2, 4, 12, 8, 10]\n"
     ]
    }
   ],
   "source": [
    "nums=[2,4,6,8,10]\n",
    "nums[2]=nums[2]*nums[0]\n",
    "print(nums)"
   ]
  },
  {
   "cell_type": "code",
   "execution_count": 8,
   "id": "4739d2d1-cd58-48f0-93b2-a7f3e312e659",
   "metadata": {},
   "outputs": [
    {
     "name": "stdout",
     "output_type": "stream",
     "text": [
      "['d', 'b']\n"
     ]
    }
   ],
   "source": [
    "letters=['a', 'b', 'c','d','e']\n",
    "print(letters[1:4][::-2])"
   ]
  },
  {
   "cell_type": "code",
   "execution_count": 9,
   "id": "d36d3302-6fa7-4923-9db6-98406f95c5a0",
   "metadata": {},
   "outputs": [
    {
     "name": "stdout",
     "output_type": "stream",
     "text": [
      "2\n"
     ]
    }
   ],
   "source": [
    "stack=[1,2,3]\n",
    "stack.pop()\n",
    "print(stack[-1])"
   ]
  },
  {
   "cell_type": "code",
   "execution_count": 10,
   "id": "d55a878a-b5a0-44b2-b8d6-0d7239f9577f",
   "metadata": {},
   "outputs": [
    {
     "name": "stdout",
     "output_type": "stream",
     "text": [
      "30\n"
     ]
    }
   ],
   "source": [
    "queue=[10,20,30,40]\n",
    "\n",
    "queue.pop(1)\n",
    "queue.append(50)\n",
    "queue.pop(0)\n",
    "print(queue[0])"
   ]
  },
  {
   "cell_type": "code",
   "execution_count": 12,
   "id": "8b614b2f-cfe9-4e4c-acba-b4ad77a14452",
   "metadata": {},
   "outputs": [
    {
     "name": "stdout",
     "output_type": "stream",
     "text": [
      "[1, 2, 3]\n"
     ]
    }
   ],
   "source": [
    "x=[1,2,3,2,4]\n",
    "x.remove(4)\n",
    "x.pop()\n",
    "print(x)"
   ]
  },
  {
   "cell_type": "code",
   "execution_count": null,
   "id": "2ff10cbd-7427-4e96-b03a-df588948e48d",
   "metadata": {},
   "outputs": [],
   "source": []
  },
  {
   "cell_type": "code",
   "execution_count": null,
   "id": "6bb921da-5899-471d-bd87-4c5d20ae2c97",
   "metadata": {},
   "outputs": [],
   "source": []
  }
 ],
 "metadata": {
  "kernelspec": {
   "display_name": "Python 3 (ipykernel)",
   "language": "python",
   "name": "python3"
  },
  "language_info": {
   "codemirror_mode": {
    "name": "ipython",
    "version": 3
   },
   "file_extension": ".py",
   "mimetype": "text/x-python",
   "name": "python",
   "nbconvert_exporter": "python",
   "pygments_lexer": "ipython3",
   "version": "3.13.5"
  }
 },
 "nbformat": 4,
 "nbformat_minor": 5
}
