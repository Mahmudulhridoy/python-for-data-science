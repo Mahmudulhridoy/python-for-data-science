{
 "cells": [
  {
   "cell_type": "markdown",
   "id": "4dea54e4-1f6f-4515-ae70-6ed665c2fc77",
   "metadata": {},
   "source": [
    "## Tuples"
   ]
  },
  {
   "cell_type": "code",
   "execution_count": 5,
   "id": "1beda5da-f0c1-4d6d-bd2d-f6dd10857142",
   "metadata": {},
   "outputs": [
    {
     "name": "stdout",
     "output_type": "stream",
     "text": [
      "<class 'tuple'> (10, 20, 30, 40)\n",
      "<class 'tuple'> (10.5, 390.4, 45.3)\n",
      "(10, 20.5, 'str', True)\n",
      "<class 'tuple'>\n"
     ]
    }
   ],
   "source": [
    "tup=(10,20, 30, 40)\n",
    "print(type(tup), tup)\n",
    "float_tup=(10.5, 390.4, 45.3)\n",
    "print(type(float_tup), float_tup)\n",
    "mixed_tup=(10, 20.5, \"str\", True)\n",
    "print(mixed_tup)\n",
    "tup1=(2,)\n",
    "print(type(tup1))"
   ]
  },
  {
   "cell_type": "code",
   "execution_count": 7,
   "id": "7d349c95-bda1-43e5-b636-a4e12d87f281",
   "metadata": {},
   "outputs": [
    {
     "name": "stdout",
     "output_type": "stream",
     "text": [
      "hridoy\n",
      "(10, 20, 30)\n"
     ]
    }
   ],
   "source": [
    "## accessing\n",
    "tuple=(123, 23, 45, 34.344, \"hridoy\", False)\n",
    "print(tuple[4])\n",
    "#slicing\n",
    "new_tuple=tup[0:3]\n",
    "print(new_tuple)"
   ]
  },
  {
   "cell_type": "code",
   "execution_count": 9,
   "id": "17d5ce5b-f5fb-4d42-81f3-14d5d7244829",
   "metadata": {},
   "outputs": [
    {
     "name": "stdout",
     "output_type": "stream",
     "text": [
      "[10, 30, 45, 35, 445, 4455]\n"
     ]
    },
    {
     "ename": "TypeError",
     "evalue": "'tuple' object does not support item assignment",
     "output_type": "error",
     "traceback": [
      "\u001b[31m---------------------------------------------------------------------------\u001b[39m",
      "\u001b[31mTypeError\u001b[39m                                 Traceback (most recent call last)",
      "\u001b[36mCell\u001b[39m\u001b[36m \u001b[39m\u001b[32mIn[9]\u001b[39m\u001b[32m, line 6\u001b[39m\n\u001b[32m      4\u001b[39m \u001b[38;5;28mprint\u001b[39m(lst)\n\u001b[32m      5\u001b[39m tupple=(\u001b[32m29\u001b[39m, \u001b[32m34\u001b[39m, \u001b[32m565\u001b[39m,\u001b[32m3\u001b[39m)\n\u001b[32m----> \u001b[39m\u001b[32m6\u001b[39m \u001b[43mtupple\u001b[49m\u001b[43m[\u001b[49m\u001b[32;43m4\u001b[39;49m\u001b[43m]\u001b[49m=\u001b[32m56\u001b[39m\n\u001b[32m      7\u001b[39m \u001b[38;5;28mprint\u001b[39m(tupple)\n",
      "\u001b[31mTypeError\u001b[39m: 'tuple' object does not support item assignment"
     ]
    }
   ],
   "source": [
    "#immutability\n",
    "lst=[10, 30, 45, 35,445]\n",
    "lst.append(4455)\n",
    "print(lst)\n",
    "tupple=(29, 34, 565,3)\n",
    "tupple[4]=56\n",
    "print(tupple) ## can't change anything if you declare tupple elements once"
   ]
  },
  {
   "cell_type": "code",
   "execution_count": 14,
   "id": "caa1cd3c-d063-49e7-8e0f-909951ab7906",
   "metadata": {},
   "outputs": [
    {
     "name": "stdout",
     "output_type": "stream",
     "text": [
      "0\n",
      "1\n",
      "0\n",
      "2\n"
     ]
    }
   ],
   "source": [
    "print(tuple.count(10))\n",
    "print(tuple.count(123))\n",
    "print(tuple.index(123))\n",
    "print(tuple.index(45))"
   ]
  },
  {
   "cell_type": "markdown",
   "id": "57bdafba-cdfd-498c-9d51-8c1dcd4fc2b5",
   "metadata": {},
   "source": [
    "## SET"
   ]
  },
  {
   "cell_type": "code",
   "execution_count": 16,
   "id": "4b0935f5-de71-4a3d-a776-219b0007c5ae",
   "metadata": {},
   "outputs": [
    {
     "name": "stdout",
     "output_type": "stream",
     "text": [
      "<class 'set'> {1, 2, 3, 4, 5, 6, 7}\n",
      "<class 'dict'> <class 'list'> <class 'tuple'>\n"
     ]
    }
   ],
   "source": [
    "set={1,2,3,4,5,6,7}\n",
    "print(type(set) , set)\n",
    "empty_set={}\n",
    "empty_list=[]\n",
    "empty_tuple=()\n",
    "print(type(empty_set), type(empty_list), type(empty_tuple))"
   ]
  },
  {
   "cell_type": "code",
   "execution_count": 23,
   "id": "a50b90ff-2d4c-41ef-a3ce-ce4c6d355895",
   "metadata": {},
   "outputs": [
    {
     "name": "stdout",
     "output_type": "stream",
     "text": [
      "{1, 2, 3, 4}\n",
      "3 is present\n",
      " the sum is 10\n"
     ]
    }
   ],
   "source": [
    "## accessing the elements of set\n",
    "s={1,2,3,4,1,2}\n",
    "print(s)\n",
    "if(3 in s):\n",
    "    print(\"3 is present\")\n",
    "else:\n",
    "    print(\"not present\")\n",
    "sum=0\n",
    "for element in s:\n",
    "    sum+=element\n",
    "\n",
    "\n",
    "print(f\" the sum is {sum}\")"
   ]
  },
  {
   "cell_type": "code",
   "execution_count": 30,
   "id": "42cda0bb-d897-4c4d-8c78-d97e6db8dc33",
   "metadata": {},
   "outputs": [
    {
     "name": "stdout",
     "output_type": "stream",
     "text": [
      "{0, 1, 2, 3, 4, 5, 12}\n",
      "{2, 3, 4, 12}\n"
     ]
    }
   ],
   "source": [
    "## mutable\n",
    "s={5,1,3,4,2}\n",
    "\n",
    "s.add(12)\n",
    "s.add(0)\n",
    "print(s)\n",
    "s.pop()  ## pop front theke bad jabe\n",
    "s.pop()\n",
    "s.remove(5)\n",
    "print(s)"
   ]
  },
  {
   "cell_type": "markdown",
   "id": "310fa079-a495-42cc-9a32-fcdfd4c34689",
   "metadata": {},
   "source": [
    "## set mathematical Methods"
   ]
  },
  {
   "cell_type": "code",
   "execution_count": 33,
   "id": "fec6c4ed-b748-4790-801f-60fe4165fc43",
   "metadata": {},
   "outputs": [
    {
     "name": "stdout",
     "output_type": "stream",
     "text": [
      "{65, 2, 3, 4, 5, 1, 34}\n",
      "{65, 2, 3, 4, 5}\n",
      "False\n",
      "True\n"
     ]
    }
   ],
   "source": [
    "a={2,3,4,5,65}\n",
    "b={1,2,34,4,5,65,3}\n",
    "print(a.union(b))\n",
    "print(a.intersection(b))\n",
    "print(a.isdisjoint(b))\n",
    "print(a.issubset(b))\n"
   ]
  },
  {
   "cell_type": "markdown",
   "id": "f6156b56-3128-4629-b045-a3aa953ad23c",
   "metadata": {},
   "source": [
    "## Dictionary"
   ]
  },
  {
   "cell_type": "code",
   "execution_count": 47,
   "id": "9f7652a2-bbb4-4a11-9c5d-59569914a5a5",
   "metadata": {},
   "outputs": [
    {
     "name": "stdout",
     "output_type": "stream",
     "text": [
      "<class 'dict'>\n",
      "{'name': 'Hridoy', 'age': 23, 'address': 'Dhaka', 'numbers': [10, 20, 30]}\n"
     ]
    }
   ],
   "source": [
    "dic={}\n",
    "print(type(dic))\n",
    "dic={'name':  'Hridoy', 'age':23, 'address': 'Dhaka', 'numbers':[10,20, 30]}\n",
    "print(dic)"
   ]
  },
  {
   "cell_type": "code",
   "execution_count": 46,
   "id": "f35b840f-ba74-47cb-8125-1ff0ae94ab79",
   "metadata": {},
   "outputs": [
    {
     "name": "stdout",
     "output_type": "stream",
     "text": [
      "mahmudul hasan hridoy\n",
      "20\n",
      "{'name': 'mahmudul hasan hridoy', 'age': 20, 'address': 'rajshahi'}\n"
     ]
    }
   ],
   "source": [
    "#accessing the dictionary\n",
    "print(dic['name'])\n",
    "print(dic.get(\"age\"))\n",
    "dic[\"name\"]=\"mahmudul hasan hridoy\"\n",
    "\n",
    "print(dic)"
   ]
  },
  {
   "cell_type": "code",
   "execution_count": 51,
   "id": "37551608-eaaa-4dee-ba78-6bdb9236e728",
   "metadata": {},
   "outputs": [
    {
     "name": "stdout",
     "output_type": "stream",
     "text": [
      "None\n",
      "0\n"
     ]
    }
   ],
   "source": [
    "print(dic.get(\"math_marks\"))\n",
    "print(dic.get(\"math_marks\", 0))"
   ]
  },
  {
   "cell_type": "code",
   "execution_count": 2,
   "id": "2b133bfc-9f16-45d2-8713-567ab5e2b124",
   "metadata": {},
   "outputs": [
    {
     "name": "stdout",
     "output_type": "stream",
     "text": [
      "{1, 2, 3}\n"
     ]
    }
   ],
   "source": [
    "set={1,2}\n",
    "set2={2,3}\n",
    "set3=set|set2\n",
    "print(set3)"
   ]
  },
  {
   "cell_type": "code",
   "execution_count": 52,
   "id": "28d47c3d-403f-4827-8628-dfaf6741fb2e",
   "metadata": {},
   "outputs": [
    {
     "name": "stdout",
     "output_type": "stream",
     "text": [
      "{'name': 'Hridoy', 'age': 23, 'address': 'Dhaka', 'numbers': [10, 20, 30], 'math_marks': 30}\n"
     ]
    }
   ],
   "source": [
    "##ADDING A VALUE\n",
    "dic[\"math_marks\"]=30\n",
    "print(dic)"
   ]
  },
  {
   "cell_type": "code",
   "execution_count": 53,
   "id": "8a779ac8-d96a-4dc3-b5e2-0a8cf19dc97b",
   "metadata": {},
   "outputs": [
    {
     "name": "stdout",
     "output_type": "stream",
     "text": [
      "{'name': 'Hridoy', 'age': 23, 'address': 'Dhaka', 'numbers': [10, 20, 30], 'math_marks': 30, 'english_marks': 40}\n"
     ]
    }
   ],
   "source": [
    "dic.update({\"english_marks\": 40})\n",
    "print(dic)"
   ]
  },
  {
   "cell_type": "code",
   "execution_count": 54,
   "id": "afeb8065-bf3c-41da-903f-27a2e9dbe77c",
   "metadata": {},
   "outputs": [
    {
     "name": "stdout",
     "output_type": "stream",
     "text": [
      "{'name': 'Hridoy', 'age': 23, 'address': 'Dhaka', 'numbers': [10, 20, 30], 'math_marks': 30, 'english_marks': 40}\n"
     ]
    }
   ],
   "source": [
    "dic_2=dic.copy()\n",
    "print(dic_2)"
   ]
  },
  {
   "cell_type": "code",
   "execution_count": 61,
   "id": "8a08092f-036a-4855-b4a8-fd7fa4bee498",
   "metadata": {},
   "outputs": [
    {
     "name": "stdout",
     "output_type": "stream",
     "text": [
      "{(10, 230, 309): 'a'}\n",
      "{'key': {'name': 'mahmudul hasan hridoy', 'age': 20}}\n"
     ]
    }
   ],
   "source": [
    "# testing\n",
    "dic_3={(10,230, 309): \"a\"}\n",
    "print(dic_3)\n",
    "dic_4={\"key\": {\"name\": \"mahmudul hasan hridoy\", 'age': 20}} ## key hisebe ekhane sob mutable value rakha lagbe, immutable hole cholbe naa\n",
    "print(dic_4)\n"
   ]
  },
  {
   "cell_type": "code",
   "execution_count": 62,
   "id": "e8b6a78b-2086-4621-b9a6-943eb6a103a7",
   "metadata": {},
   "outputs": [
    {
     "name": "stdout",
     "output_type": "stream",
     "text": [
      "dict_keys(['name', 'age', 'address', 'numbers', 'math_marks', 'english_marks'])\n"
     ]
    }
   ],
   "source": [
    "keys=dic.keys()\n",
    "print(keys)"
   ]
  },
  {
   "cell_type": "code",
   "execution_count": 63,
   "id": "148249ed-808b-4041-bf47-67d0fd713ed9",
   "metadata": {},
   "outputs": [
    {
     "name": "stdout",
     "output_type": "stream",
     "text": [
      "dict_items([('name', 'Hridoy'), ('age', 23), ('address', 'Dhaka'), ('numbers', [10, 20, 30]), ('math_marks', 30), ('english_marks', 40)])\n"
     ]
    }
   ],
   "source": [
    "items=dic.items()\n",
    "print(items)"
   ]
  },
  {
   "cell_type": "code",
   "execution_count": 64,
   "id": "d783877d-a860-43a4-ac54-8126b07ea1a4",
   "metadata": {
    "scrolled": true
   },
   "outputs": [
    {
     "name": "stdout",
     "output_type": "stream",
     "text": [
      "name Hridoy\n",
      "age 23\n",
      "address Dhaka\n",
      "numbers [10, 20, 30]\n",
      "math_marks 30\n",
      "english_marks 40\n"
     ]
    }
   ],
   "source": [
    "#iteration\n",
    "for key, value in dic.items():\n",
    "    print(key, value)"
   ]
  },
  {
   "cell_type": "markdown",
   "id": "13d341d9-04a4-4954-b467-a69966adf7f5",
   "metadata": {},
   "source": [
    "## Dictionary Comprehension"
   ]
  },
  {
   "cell_type": "code",
   "execution_count": 68,
   "id": "ebd1cad3-29ce-4f9c-a1e8-7fcd41d3828a",
   "metadata": {},
   "outputs": [
    {
     "name": "stdout",
     "output_type": "stream",
     "text": [
      "[0, 1, 2, 3, 4, 5, 6, 7, 8, 9]\n",
      "{2: 4, 4: 16, 6: 36, 8: 64, 10: 100}\n"
     ]
    }
   ],
   "source": [
    "print(list(range(10)))\n",
    "\n",
    "square={x:x**2  for x in range (1,11) if x%2==0}\n",
    "print(square)"
   ]
  },
  {
   "cell_type": "code",
   "execution_count": 69,
   "id": "1ad195a2-6e4f-465b-8fe4-b4eb692e8b00",
   "metadata": {},
   "outputs": [
    {
     "name": "stdout",
     "output_type": "stream",
     "text": [
      "{(10, 10.5): 'dhaka', (20.5, 192): 'chattogram', (101, 102): 'sylhet'}\n"
     ]
    }
   ],
   "source": [
    "co_ordinates=[(10,10.5), (20.5, 192), (101,102)]\n",
    "locations=[\"dhaka\", \"chattogram\", \"sylhet\"]\n",
    "exact_location={co_or: loc for co_or , loc in zip(co_ordinates, locations)}\n",
    "print(exact_location)"
   ]
  },
  {
   "cell_type": "markdown",
   "id": "8dad2099-e5f0-431b-892a-3c9ed0991130",
   "metadata": {},
   "source": [
    "## problem solving with in built structures"
   ]
  },
  {
   "cell_type": "code",
   "execution_count": 1,
   "id": "76655021-6e61-47ac-81d1-7a2f4b8f3934",
   "metadata": {},
   "outputs": [
    {
     "name": "stdout",
     "output_type": "stream",
     "text": [
      "[70, 40, 10, 650, 50, 20, 340, 90, 60, 30]\n"
     ]
    }
   ],
   "source": [
    "lst=[10,20,30,30, 60,340,40,50, 650, 60, 70, 90]\n",
    "unique_values=set(lst)\n",
    "unique_list=list(unique_values)\n",
    "print(unique_list)"
   ]
  },
  {
   "cell_type": "code",
   "execution_count": 7,
   "id": "f3f0ed6a-276a-4b31-b82a-199bd01df562",
   "metadata": {},
   "outputs": [
    {
     "name": "stdout",
     "output_type": "stream",
     "text": [
      "['data', 'science', 'machine', 'learning', 'data', 'analysis', 'machine', 'learning', 'statistics', 'data', 'models', 'data', 'training', 'data', 'validation', 'features', 'features', 'labels', 'preproccesing', 'data', 'augmentation', 'models', 'data', 'optimization', 'gradient', 'descent', 'neural', 'networks', 'data', 'tensors', 'matrices', 'visualization', 'exploration', 'pandas', 'numpy', 'matlotlib', 'seaborn', 'scikitlearn', 'tensorflow', 'pytorch', 'deployment', 'inference', 'production', 'monitoring', 'reproductibility', 'experiments', 'results', 'metrices', 'accuracy', 'precision', 'recall', 'f1', 'cross', 'validation', 'data', 'machine']\n",
      "<class 'str'>\n",
      "count of data is 9\n",
      "count of science is 1\n",
      "count of machine is 3\n",
      "count of learning is 2\n",
      "count of analysis is 1\n",
      "count of statistics is 1\n",
      "count of models is 2\n",
      "count of training is 1\n",
      "count of validation is 2\n",
      "count of features is 2\n",
      "count of labels is 1\n",
      "count of preproccesing is 1\n",
      "count of augmentation is 1\n",
      "count of optimization is 1\n",
      "count of gradient is 1\n",
      "count of descent is 1\n",
      "count of neural is 1\n",
      "count of networks is 1\n",
      "count of tensors is 1\n",
      "count of matrices is 1\n",
      "count of visualization is 1\n",
      "count of exploration is 1\n",
      "count of pandas is 1\n",
      "count of numpy is 1\n",
      "count of matlotlib is 1\n",
      "count of seaborn is 1\n",
      "count of scikitlearn is 1\n",
      "count of tensorflow is 1\n",
      "count of pytorch is 1\n",
      "count of deployment is 1\n",
      "count of inference is 1\n",
      "count of production is 1\n",
      "count of monitoring is 1\n",
      "count of reproductibility is 1\n",
      "count of experiments is 1\n",
      "count of results is 1\n",
      "count of metrices is 1\n",
      "count of accuracy is 1\n",
      "count of precision is 1\n",
      "count of recall is 1\n",
      "count of f1 is 1\n",
      "count of cross is 1\n"
     ]
    }
   ],
   "source": [
    "string=\"\"\"data science machine learning data  analysis machine learning statistics data models data training data validation features features labels preproccesing  data augmentation models data optimization gradient descent neural networks data tensors matrices visualization exploration pandas numpy matlotlib seaborn scikitlearn tensorflow pytorch deployment inference production monitoring reproductibility experiments results metrices accuracy precision recall f1 cross validation data machine\"\"\"\n",
    "\n",
    "words=string.split()\n",
    "print(words)\n",
    "print(type(word))\n",
    "count={}\n",
    "for word in words:\n",
    "    count[word]=count.get(word,0)+1\n",
    "for k, v in count.items():\n",
    "    print(f\"count of {k} is {v}\")"
   ]
  },
  {
   "cell_type": "code",
   "execution_count": null,
   "id": "38cb1fd1-26f7-4a20-a8da-b37163819ad4",
   "metadata": {},
   "outputs": [],
   "source": []
  },
  {
   "cell_type": "code",
   "execution_count": null,
   "id": "da03031b-d1d8-46f2-9241-0937f3fa074b",
   "metadata": {},
   "outputs": [],
   "source": []
  }
 ],
 "metadata": {
  "kernelspec": {
   "display_name": "Python 3 (ipykernel)",
   "language": "python",
   "name": "python3"
  },
  "language_info": {
   "codemirror_mode": {
    "name": "ipython",
    "version": 3
   },
   "file_extension": ".py",
   "mimetype": "text/x-python",
   "name": "python",
   "nbconvert_exporter": "python",
   "pygments_lexer": "ipython3",
   "version": "3.13.5"
  }
 },
 "nbformat": 4,
 "nbformat_minor": 5
}
