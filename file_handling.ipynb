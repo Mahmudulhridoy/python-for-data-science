{
  "nbformat": 4,
  "nbformat_minor": 0,
  "metadata": {
    "colab": {
      "provenance": [],
      "authorship_tag": "ABX9TyMJYMWz/etkxJz/4wi7KniU",
      "include_colab_link": true
    },
    "kernelspec": {
      "name": "python3",
      "display_name": "Python 3"
    },
    "language_info": {
      "name": "python"
    }
  },
  "cells": [
    {
      "cell_type": "markdown",
      "metadata": {
        "id": "view-in-github",
        "colab_type": "text"
      },
      "source": [
        "<a href=\"https://colab.research.google.com/github/Mahmudulhridoy/python-for-data-science/blob/main/file_handling.ipynb\" target=\"_parent\"><img src=\"https://colab.research.google.com/assets/colab-badge.svg\" alt=\"Open In Colab\"/></a>"
      ]
    },
    {
      "cell_type": "code",
      "execution_count": null,
      "metadata": {
        "colab": {
          "base_uri": "https://localhost:8080/"
        },
        "id": "ytceytB6nheT",
        "outputId": "cfb7e216-dc6f-455a-c4ad-73671c58239e"
      },
      "outputs": [
        {
          "output_type": "stream",
          "name": "stdout",
          "text": [
            "\n"
          ]
        }
      ],
      "source": [
        "file=open(\"./sample_data/sample_data.txt\", \"r\")\n",
        "content=file.read()\n",
        "print(content)\n",
        "file.close()"
      ]
    },
    {
      "cell_type": "markdown",
      "source": [],
      "metadata": {
        "id": "qXCkG9OnpSE-"
      }
    },
    {
      "cell_type": "code",
      "source": [
        "with open(\"./sample_data/sample_data.txt\",\"r\") as file:\n",
        "\n",
        "\n",
        "\n",
        "     content=file.readlines()\n",
        "     for line in content:\n",
        "      print(line, end=\"\")\n",
        "\n",
        "file.close()"
      ],
      "metadata": {
        "id": "XPy277moowpH"
      },
      "execution_count": null,
      "outputs": []
    },
    {
      "cell_type": "code",
      "source": [
        "with open(\"./sample_data/sample_data.txt\", \"r\") as file:\n",
        "  for line in file:\n",
        "    print(line.strip())"
      ],
      "metadata": {
        "id": "Fah7NKjQpkin"
      },
      "execution_count": null,
      "outputs": []
    },
    {
      "cell_type": "code",
      "source": [
        "with open(\"./sample_data/sample.txt\",\"w\") as file:\n",
        "  file.write(\"Hi i am mahmudul hasan hridoy, currently studying in Daffodil International University pursuing my bsc degree in software engineering.\")\n",
        "  print(file)"
      ],
      "metadata": {
        "id": "lq10-GmIqt_d",
        "colab": {
          "base_uri": "https://localhost:8080/"
        },
        "outputId": "3010359c-bb50-492a-88da-3924e6b346a5"
      },
      "execution_count": null,
      "outputs": [
        {
          "output_type": "stream",
          "name": "stdout",
          "text": [
            "<_io.TextIOWrapper name='./sample_data/sample.txt' mode='w' encoding='utf-8'>\n"
          ]
        }
      ]
    },
    {
      "cell_type": "code",
      "source": [
        "with open(\"./sample_data/sample.txt\",\"w\") as file:\n",
        "  file.write(\"Hi i am mahmudul hasan hridoy from rajhahi currently studying in Daffodil International University.\\n\")\n",
        "  file.write(\"pursuing my bsc degree in software engineering.\\n\")\n",
        "  print(file)"
      ],
      "metadata": {
        "colab": {
          "base_uri": "https://localhost:8080/"
        },
        "id": "W3vQVTJKekNQ",
        "outputId": "98486154-ae1c-4010-ecb9-2a3792b6ca58"
      },
      "execution_count": null,
      "outputs": [
        {
          "output_type": "stream",
          "name": "stdout",
          "text": [
            "<_io.TextIOWrapper name='./sample_data/sample.txt' mode='w' encoding='utf-8'>\n"
          ]
        }
      ]
    },
    {
      "cell_type": "code",
      "source": [
        "with open(\"./sample_data/sample.txt\",\"a\") as file:\n",
        "  file.write(\"i already completed my five semester within eleven semester.\\n\")\n",
        "  file.write(\"i will complete my bsc degree in 2027 december.\\n\")\n",
        "  file.write(\"so this is all about myself\")\n"
      ],
      "metadata": {
        "id": "eyH6jOZwevCY"
      },
      "execution_count": null,
      "outputs": []
    },
    {
      "cell_type": "code",
      "source": [
        "strings=['hello', 'hi','good bye', 'what up']\n",
        "with open(\"./sample_data/sample2.txt\",\"a\") as file:\n",
        "  file.writelines(strings)"
      ],
      "metadata": {
        "id": "B3d-BskCfh8p"
      },
      "execution_count": null,
      "outputs": []
    },
    {
      "cell_type": "code",
      "source": [
        "with open(\"./sample_data/sample.txt\",\"r\") as file:\n",
        "  print(file.tell())\n",
        "  print(file.read())\n",
        "  print(file.tell())\n",
        "  print(file.read())"
      ],
      "metadata": {
        "colab": {
          "base_uri": "https://localhost:8080/"
        },
        "id": "cKLLtbT8gHCh",
        "outputId": "55da16ad-81ff-4a60-c8a9-53355b8f811c"
      },
      "execution_count": null,
      "outputs": [
        {
          "output_type": "stream",
          "name": "stdout",
          "text": [
            "0\n",
            "Hi i am mahmudul hasan hridoy from rajhahi currently studying in Daffodil International University.\n",
            "pursuing my bsc degree in software engineering.\n",
            "i already completed my five semester within eleven semester.\n",
            "i will complete my bsc degree in 2027 december.\n",
            "so this is all about myself\n",
            "284\n",
            "\n"
          ]
        }
      ]
    },
    {
      "cell_type": "code",
      "source": [
        "with open(\"./sample_data/sample.txt\",\"r\") as file:\n",
        "  print(file.tell())\n",
        "  print(file.read(100))\n",
        "  print(file.tell())\n",
        "  print(file.read())\n",
        "  print(file.tell())"
      ],
      "metadata": {
        "colab": {
          "base_uri": "https://localhost:8080/"
        },
        "id": "TEzogJmQgt0R",
        "outputId": "b58c15e9-99aa-4255-9f52-d5eecde35338"
      },
      "execution_count": null,
      "outputs": [
        {
          "output_type": "stream",
          "name": "stdout",
          "text": [
            "0\n",
            "Hi i am mahmudul hasan hridoy from rajhahi currently studying in Daffodil International University.\n",
            "\n",
            "100\n",
            "pursuing my bsc degree in software engineering.\n",
            "i already completed my five semester within eleven semester.\n",
            "i will complete my bsc degree in 2027 december.\n",
            "so this is all about myself\n",
            "284\n"
          ]
        }
      ]
    },
    {
      "cell_type": "code",
      "source": [
        "##seek\n",
        "with open(\"./sample_data/sample.txt\",\"r\") as file:\n",
        "  print(file.tell())\n",
        "  print(file.read(120))\n",
        "  print(file.tell())\n",
        "  file.seek(12)\n",
        "  print(file.tell())\n",
        "  print(file.read(240))"
      ],
      "metadata": {
        "colab": {
          "base_uri": "https://localhost:8080/"
        },
        "id": "jycOYW6eg4Gp",
        "outputId": "58f0ab23-5d0f-4005-dafd-017a5b91c028"
      },
      "execution_count": null,
      "outputs": [
        {
          "output_type": "stream",
          "name": "stdout",
          "text": [
            "0\n",
            "Hi i am mahmudul hasan hridoy from rajhahi currently studying in Daffodil International University.\n",
            "pursuing my bsc degr\n",
            "120\n",
            "12\n",
            "udul hasan hridoy from rajhahi currently studying in Daffodil International University.\n",
            "pursuing my bsc degree in software engineering.\n",
            "i already completed my five semester within eleven semester.\n",
            "i will complete my bsc degree in 2027 decem\n"
          ]
        }
      ]
    },
    {
      "cell_type": "markdown",
      "source": [
        "get the text from sample.txt and count the following\n",
        "number of lines\n",
        "\n",
        "1.   number of words\n",
        "2.   number of characters\n",
        "\n",
        "\n",
        "1.   number of lines\n",
        "2.   save it to the counter of string.txt file\n",
        "\n",
        "\n",
        "\n",
        "\n"
      ],
      "metadata": {
        "id": "-xmSCgBQhmkB"
      }
    },
    {
      "cell_type": "code",
      "source": [
        "from functools import reduce\n",
        "with open(\"./sample_data/sample.txt\",\"r\") as file:\n",
        "  string_list=file.readlines()\n",
        "  total_lines=len(string_list)\n",
        "  print(total_lines)\n",
        "  ## word koita ber korbo ekhon\n",
        "  number_of_words=list(map(lambda x:len(x.split()), string_list))\n",
        "  print(number_of_words)\n",
        "  ##total word ber korbo\n",
        "  total_number_of_words= reduce (lambda x,y: x+y, number_of_words)\n",
        "  print(total_number_of_words)\n",
        "  #new line delete]\n",
        "  string_list=list(map(str.strip, string_list))\n",
        "  print(string_list)\n",
        "  #space delete\n",
        "  string_list=list(map(lambda x: x.replace(\" \",\"\"),string_list))\n",
        "  print(string_list)\n",
        "  #character ber korbo\n",
        "  number_of_characters=list(map(lambda x: len(x), string_list))\n",
        "  print(number_of_characters)\n",
        "  #total character ber korbo\n",
        "  total_number_of_characters=reduce(lambda x,y: x+y, number_of_characters)\n",
        "  print(total_number_of_characters)\n",
        "  with open(\"./sample_data/counter.txt\",\"w\") as file:\n",
        "    file.write(f\"total lines: {total_lines}\\n\")\n",
        "    file.write(f\"total words: {total_number_of_words}\\n\")\n",
        "    file.write(f\"total characters: {total_number_of_characters}\")\n"
      ],
      "metadata": {
        "colab": {
          "base_uri": "https://localhost:8080/"
        },
        "id": "ymI4vq3oiMpp",
        "outputId": "6b51bf21-f879-4d9d-82d4-a72fba8f8692"
      },
      "execution_count": null,
      "outputs": [
        {
          "output_type": "stream",
          "name": "stdout",
          "text": [
            "5\n",
            "[14, 7, 9, 9, 6]\n",
            "45\n",
            "['Hi i am mahmudul hasan hridoy from rajhahi currently studying in Daffodil International University.', 'pursuing my bsc degree in software engineering.', 'i already completed my five semester within eleven semester.', 'i will complete my bsc degree in 2027 december.', 'so this is all about myself']\n",
            "['HiiammahmudulhasanhridoyfromrajhahicurrentlystudyinginDaffodilInternationalUniversity.', 'pursuingmybscdegreeinsoftwareengineering.', 'ialreadycompletedmyfivesemesterwithinelevensemester.', 'iwillcompletemybscdegreein2027december.', 'sothisisallaboutmyself']\n",
            "[86, 41, 52, 39, 22]\n",
            "240\n"
          ]
        }
      ]
    },
    {
      "cell_type": "code",
      "source": [],
      "metadata": {
        "id": "YEHcrD_aoOQ8"
      },
      "execution_count": null,
      "outputs": []
    },
    {
      "cell_type": "markdown",
      "source": [
        "# practice problem:\n",
        "write then read with one open\n"
      ],
      "metadata": {
        "id": "hk_RlL7HrGJs"
      }
    },
    {
      "cell_type": "code",
      "source": [
        "with open(\"./sample_data/write_read.txt\", \"w+\") as file:\n",
        "  file.write(\"hello world\")\n",
        "\n",
        "  print(file.tell())\n",
        "  file.seek(0)\n",
        "  print(file.tell())\n",
        "  print(file.read(5))\n",
        "  file.truncate(10)\n",
        "  file.seek(0)\n",
        "  print(file.read())\n"
      ],
      "metadata": {
        "colab": {
          "base_uri": "https://localhost:8080/"
        },
        "id": "4Xc9Yq4SrWP8",
        "outputId": "a8f0454c-092a-46a5-b4f7-5e388e51687b"
      },
      "execution_count": null,
      "outputs": [
        {
          "output_type": "stream",
          "name": "stdout",
          "text": [
            "11\n",
            "0\n",
            "hello\n",
            "hello worl\n"
          ]
        }
      ]
    },
    {
      "cell_type": "markdown",
      "source": [
        "# Exception Handling"
      ],
      "metadata": {
        "id": "xsJHaffGs0eF"
      }
    },
    {
      "cell_type": "code",
      "source": [
        "n=int(input())\n",
        "\n",
        "try:\n",
        "  a=10/0\n",
        "except ZeroDivisionError:\n",
        "  print(\"you can not divide by zero\")\n",
        "print(\"mahmudul hasan hridoy\")"
      ],
      "metadata": {
        "colab": {
          "base_uri": "https://localhost:8080/"
        },
        "id": "lH6dpQ4_vBYF",
        "outputId": "ade7f26a-377f-4f57-ccfc-e3adfa62f4c6"
      },
      "execution_count": null,
      "outputs": [
        {
          "output_type": "stream",
          "name": "stdout",
          "text": [
            "0\n",
            "you can not divide by zero\n",
            "mahmudul hasan hridoy\n"
          ]
        }
      ]
    },
    {
      "cell_type": "code",
      "source": [
        "try:\n",
        "  x=y\n",
        "except NameError as ne:\n",
        "  print(ne)\n",
        "print(\"hello world\")"
      ],
      "metadata": {
        "colab": {
          "base_uri": "https://localhost:8080/"
        },
        "id": "hlTGi34wv9g-",
        "outputId": "2ee25a74-5540-4296-ec8f-b68680a8f609"
      },
      "execution_count": null,
      "outputs": [
        {
          "output_type": "stream",
          "name": "stdout",
          "text": [
            "name 'y' is not defined\n",
            "hello world\n"
          ]
        }
      ]
    },
    {
      "cell_type": "code",
      "source": [
        "## if i am not knowing what error happens\n",
        "try:\n",
        "  x=y\n",
        "except Exception as e:\n",
        "  print(e)\n",
        "print(\"hello world\")"
      ],
      "metadata": {
        "colab": {
          "base_uri": "https://localhost:8080/"
        },
        "id": "WfRrPGJOwbwu",
        "outputId": "35e1b41c-3135-434f-eba7-2161ffbf9bdd"
      },
      "execution_count": null,
      "outputs": [
        {
          "output_type": "stream",
          "name": "stdout",
          "text": [
            "name 'y' is not defined\n",
            "hello world\n"
          ]
        }
      ]
    },
    {
      "cell_type": "code",
      "source": [
        "# model train\n",
        "try:\n",
        "  file=open(\"./sample_data/data1.txt\", \"r\")\n",
        "  file.read()\n",
        "except Exception as e:\n",
        "  print(e)\n",
        "else:\n",
        "  print(file.read())\n",
        "finally:\n",
        "  print(\"GPU IS STOPPED\")"
      ],
      "metadata": {
        "colab": {
          "base_uri": "https://localhost:8080/"
        },
        "id": "_PsSLfGXwrcI",
        "outputId": "c429a3e5-e928-4b2a-dff2-783fa228cae7"
      },
      "execution_count": null,
      "outputs": [
        {
          "output_type": "stream",
          "name": "stdout",
          "text": [
            "\n",
            "GPU IS STOPPED\n"
          ]
        }
      ]
    },
    {
      "cell_type": "code",
      "source": [],
      "metadata": {
        "id": "Tmo3UQkXxSV3"
      },
      "execution_count": null,
      "outputs": []
    }
  ]
}