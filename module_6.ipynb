{
 "cells": [
  {
   "cell_type": "markdown",
   "id": "928f3274-a870-494e-b29c-970fe52573a0",
   "metadata": {},
   "source": [
    "## Function in Python"
   ]
  },
  {
   "cell_type": "code",
   "execution_count": 4,
   "id": "02fdb341-74a4-4bd1-a08b-47a3efdec945",
   "metadata": {},
   "outputs": [
    {
     "name": "stdout",
     "output_type": "stream",
     "text": [
      "hello mahmudul\n"
     ]
    }
   ],
   "source": [
    "## set of instructions to do a specific task\n",
    "def greet(user):\n",
    "    print(f\"hello {user}\")\n",
    "\n",
    "greet(\"mahmudul\")"
   ]
  },
  {
   "cell_type": "code",
   "execution_count": 11,
   "id": "e76b6916-e0fb-469c-a352-52dc03a0fb2d",
   "metadata": {},
   "outputs": [],
   "source": [
    "def square_addition(a, b):\n",
    "    print(f\"{a} {b}\")\n",
    "    a=a**2\n",
    "    b=b**2\n",
    "    return a+b\n",
    "ans=square_addition(10,20)+10 ## positional_argument\n",
    "print(ans) "
   ]
  },
  {
   "cell_type": "code",
   "execution_count": 13,
   "id": "c8c81207-3e69-451e-9cff-57c6c52ee77a",
   "metadata": {},
   "outputs": [
    {
     "name": "stdout",
     "output_type": "stream",
     "text": [
      "20 10\n",
      "510\n"
     ]
    }
   ],
   "source": [
    "##keyword argument\n",
    "def square_addition(a, b):\n",
    "    print(f\"{a} {b}\")\n",
    "    a=a**2\n",
    "    b=b**2\n",
    "    return a+b\n",
    "ans=square_addition(b=10,a=20)+10\n",
    "print(ans) "
   ]
  },
  {
   "cell_type": "code",
   "execution_count": 32,
   "id": "7b356dde-8882-49b8-838a-6ad4fd6c987b",
   "metadata": {},
   "outputs": [],
   "source": [
    "#variable argument\n",
    "def square_addition(*args):\n",
    "    \n",
    "    summation=0\n",
    "    for i in args:\n",
    "        i=i**2\n",
    "        summation+=i\n",
    "    return summation\n",
    "     "
   ]
  },
  {
   "cell_type": "code",
   "execution_count": 33,
   "id": "1ca46208-55d5-434f-aa04-cb12d58dd623",
   "metadata": {},
   "outputs": [
    {
     "name": "stdout",
     "output_type": "stream",
     "text": [
      "5500\n"
     ]
    }
   ],
   "source": [
    "ans=square_addition(10,20,30,40,50)\n",
    "print(ans) "
   ]
  },
  {
   "cell_type": "code",
   "execution_count": 41,
   "id": "46f5ffa8-ce0b-4eca-9a7c-cec783a7781b",
   "metadata": {},
   "outputs": [],
   "source": [
    "def student(**kwargs):\n",
    "    for key, val in kwargs.items():\n",
    "        print(f\"{key} : {val}\")"
   ]
  },
  {
   "cell_type": "code",
   "execution_count": 42,
   "id": "71e0dbaa-157d-4975-9bf4-4c0eeeaabcbf",
   "metadata": {},
   "outputs": [
    {
     "name": "stdout",
     "output_type": "stream",
     "text": [
      "name : hridoy\n",
      "cls : 10\n",
      "roll : 1\n",
      "marks : 100\n"
     ]
    }
   ],
   "source": [
    "student(name=\"hridoy\", cls=10, roll=1, marks=100)"
   ]
  },
  {
   "cell_type": "code",
   "execution_count": 52,
   "id": "d75960fb-3034-4252-b2e8-9ed41a2ff888",
   "metadata": {},
   "outputs": [
    {
     "name": "stdout",
     "output_type": "stream",
     "text": [
      "('hridoy', 10)\n",
      "hridoy 10\n"
     ]
    }
   ],
   "source": [
    "## returning argument using unpacking\n",
    "def give_prediction(*args):\n",
    "    return \"hridoy\", 10\n",
    "type(give_prediction())\n",
    "print(give_prediction())\n",
    "##unpacking\n",
    "x, y= give_prediction(10, \"Momota\")\n",
    "print(x,y)"
   ]
  },
  {
   "cell_type": "code",
   "execution_count": 55,
   "id": "80f86c01-4a52-4387-b0c6-64e51d964e4d",
   "metadata": {},
   "outputs": [
    {
     "name": "stdout",
     "output_type": "stream",
     "text": [
      "[10, 20, 30] [20, 30, 40]\n"
     ]
    }
   ],
   "source": [
    "##returning list using function\n",
    "def give_prediction():\n",
    "    a=[10,20,30]\n",
    "    b=[20,30,40]\n",
    "    return a,b\n",
    "type(give_prediction())\n",
    "\n",
    "x, y=give_prediction()\n",
    "print(x,y)"
   ]
  },
  {
   "cell_type": "code",
   "execution_count": 58,
   "id": "5cd4a09e-e576-4571-a7b1-7a2d05b97037",
   "metadata": {},
   "outputs": [
    {
     "name": "stdout",
     "output_type": "stream",
     "text": [
      "{1, 3, 45, 43} {3, 5, 6, 23, 56}\n"
     ]
    }
   ],
   "source": [
    "## returning set using function\n",
    "def return_set():\n",
    "    a={1,3,43,45}\n",
    "    b={23,5,56,6,3}\n",
    "    return a, b\n",
    "type(return_set())\n",
    "x, y=return_set()\n",
    "print(x,y)"
   ]
  },
  {
   "cell_type": "code",
   "execution_count": 61,
   "id": "78cfa0a2-6697-4ae4-89ac-255dde1b50ac",
   "metadata": {},
   "outputs": [
    {
     "name": "stdout",
     "output_type": "stream",
     "text": [
      "[10, 203, 34] {'maksuda momota', 'mahmudul hasan hridoy'}\n"
     ]
    }
   ],
   "source": [
    "## returning both set and list as unpacking\n",
    "def return_set_and_list():\n",
    "    a=[10,203,34]\n",
    "    b={\"mahmudul hasan hridoy\", \"maksuda momota\"}\n",
    "    return a, b\n",
    "type(return_set_and_list())\n",
    "x,y=return_set_and_list()\n",
    "print(x,y)"
   ]
  },
  {
   "cell_type": "code",
   "execution_count": 63,
   "id": "1ff9b917-06dd-4ab6-baeb-221dc7a14185",
   "metadata": {},
   "outputs": [
    {
     "name": "stdout",
     "output_type": "stream",
     "text": [
      "<class 'dict'>\n",
      "('name', 'adil')\n",
      "('class', 10)\n"
     ]
    }
   ],
   "source": [
    "def give_prediction():\n",
    "    return {\"name\": \"adil\", \"class\":10}, {\"name\": \"abrar\", \"address\": \"dhaka\"}\n",
    "x,y=give_prediction()\n",
    "print(type(x))\n",
    "for i in x.items():\n",
    "    print(i)"
   ]
  },
  {
   "cell_type": "markdown",
   "id": "94f48a4a-bf84-4d4d-8a9e-406ae152f651",
   "metadata": {},
   "source": [
    "## iterator \n"
   ]
  },
  {
   "cell_type": "code",
   "execution_count": 70,
   "id": "e98c134f-128e-4e20-82d5-c050366256d7",
   "metadata": {},
   "outputs": [
    {
     "name": "stdout",
     "output_type": "stream",
     "text": [
      "<class 'set_iterator'>\n",
      "4304\n",
      "23\n",
      "10\n",
      "203\n"
     ]
    }
   ],
   "source": [
    "s={10,203,30,4304,23}\n",
    "s_iter=iter(s)\n",
    "print(type(s_iter))\n",
    "## lst=[1,2,3,34,4,45,5,5]\n",
    "# max=next(lst)\n",
    "# index= lst.index(max)\n",
    "# print(max , index)\n",
    "print(next(s_iter))\n",
    "print(next(s_iter))\n",
    "print(next(s_iter))\n",
    "\n",
    "print(next(s_iter))"
   ]
  },
  {
   "cell_type": "markdown",
   "id": "677e8d5f-e5f3-4d26-84b2-0d132b641a19",
   "metadata": {},
   "source": [
    "# generator"
   ]
  },
  {
   "cell_type": "code",
   "execution_count": 73,
   "id": "e729cee9-b120-4412-9aa1-a29df9bb7d6a",
   "metadata": {},
   "outputs": [
    {
     "name": "stdout",
     "output_type": "stream",
     "text": [
      "[0, 1, 2, 3, 4]\n",
      "[5, 6, 7, 8, 9]\n",
      "[10, 11, 12, 13, 14]\n"
     ]
    }
   ],
   "source": [
    "\n",
    "lst=[x for x in range(500)]\n",
    "def data_loader(chunk_size, lst):\n",
    "    for i in range(0, len(lst), chunk_size):\n",
    "        yield lst[i:i+chunk_size]\n",
    "x=data_loader(5,lst)\n",
    "print(next(x))\n",
    "print(next(x))\n",
    "print(next(x))\n",
    "\n",
    "    "
   ]
  },
  {
   "cell_type": "markdown",
   "id": "30bb3384-3a7b-41b4-bc14-76bd89ccc43f",
   "metadata": {},
   "source": [
    "## Lambda Funtion in python"
   ]
  },
  {
   "cell_type": "code",
   "execution_count": 75,
   "id": "147f786f-a7ef-4c38-9c13-4decf8f6c117",
   "metadata": {},
   "outputs": [
    {
     "name": "stdout",
     "output_type": "stream",
     "text": [
      "13\n"
     ]
    }
   ],
   "source": [
    "##special funtion, anonymous,inline\n",
    "def square_addition(x, y):\n",
    "    return x**2 +y**2\n",
    "\n",
    "square=lambda x,y: x**2 +y**2\n",
    "print(square(2,3))"
   ]
  },
  {
   "cell_type": "code",
   "execution_count": 76,
   "id": "a00290f1-b2bd-4618-8909-912d5cd25359",
   "metadata": {},
   "outputs": [
    {
     "name": "stdout",
     "output_type": "stream",
     "text": [
      "False\n"
     ]
    }
   ],
   "source": [
    "if_even = lambda x: x%2==0\n",
    "print(if_even(11))"
   ]
  },
  {
   "cell_type": "markdown",
   "id": "2c872851-0ee0-4c8f-8823-480e0e0dff43",
   "metadata": {},
   "source": [
    "# Map"
   ]
  },
  {
   "cell_type": "code",
   "execution_count": 79,
   "id": "a30aa63b-6668-46bf-8941-2f60a65080d8",
   "metadata": {},
   "outputs": [
    {
     "name": "stdout",
     "output_type": "stream",
     "text": [
      "[1, 4, 9, 16, 25, 36]\n"
     ]
    }
   ],
   "source": [
    "## it can be applied in every value of a set of data\n",
    "lst=[1,2,3,4,5,6]\n",
    "def square(x):\n",
    "    return x**2\n",
    "lst=list(map(square, lst))\n",
    "print(lst)"
   ]
  },
  {
   "cell_type": "code",
   "execution_count": 82,
   "id": "1783035a-a199-4ab5-84ad-fa6955ababbb",
   "metadata": {},
   "outputs": [
    {
     "name": "stdout",
     "output_type": "stream",
     "text": [
      "['I', ' ', 'W', 'A', 'N', 'T', ' ', 'T', 'O', ' ', 'B', 'E', ' ', 'A', ' ', 'S', 'O', 'F', 'T', 'W', 'A', 'R', 'E', ' ', 'E', 'N', 'G', 'I', 'N', 'E', 'E', 'R', '.', ' ', 'A', 'N', 'D', ' ', 'I', \"'\", 'M', ' ', 'T', 'R', 'Y', 'I', 'N', 'G', ' ', 'T', 'O', ' ', 'G', 'E', 'T', ' ', 'S', 'K', 'I', 'L', 'L', 'E', 'D', ' ', 'O', 'N', ' ', 'M', 'A', 'N', 'Y', ' ', 'L', 'A', 'N', 'G', 'U', 'A', 'G', 'E', '.', ' ', 'N', 'O', 'W', ' ', 'I', \"'\", 'M', ' ', 'C', 'U', 'R', 'R', 'E', 'N', 'T', 'L', 'Y', ' ', 'P', 'U', 'R', 'S', 'U', 'I', 'N', 'G', ' ', 'M', 'Y', ' ', 'B', 'S', 'C', ' ', 'D', 'E', 'G', 'R', 'E', 'E', ' ', 'I', 'N', ' ', 'S', 'O', 'F', 'T', 'W', 'A', 'R', 'E', ' ', 'E', 'N', 'G', 'I', 'N', 'E', 'E', 'R', 'I', 'N', 'G', ' ', 'A', 'T', ' ', 'D', 'A', 'F', 'F', 'O', 'D', 'I', 'L', ' ', 'I', 'N', 'T', 'E', 'R', 'N', 'A', 'T', 'I', 'O', 'N', 'A', 'L', ' ', 'U', 'N', 'I', 'V', 'E', 'R', 'S', 'I', 'T', 'Y', ' ', 'N', 'E', 'A', 'R', 'L', 'Y', ' ', 'L', 'O', 'C', 'A', 'T', 'E', 'D', ' ', 'B', 'E', 'S', 'I', 'D', 'E', ' ', 'D', 'H', 'A', 'K', 'A', '.', ' ', 'A', 'L', 'S', 'O', ' ', 'I', \"'\", 'M', ' ', 'S', 'K', 'I', 'L', 'L', 'F', 'U', 'L', ' ', 'A', 'T', ' ', 'C', ',', ' ', 'C', '+', '+', ',', ' ', 'J', 'A', 'V', 'A', ',', ' ', 'J', 'A', 'V', 'A', 'S', 'C', 'R', 'I', 'P', 'T', ' ', 'E', 'T', 'C']\n",
      "I   W A N T   T O   B E   A   S O F T W A R E   E N G I N E E R .   A N D   I ' M   T R Y I N G   T O   G E T   S K I L L E D   O N   M A N Y   L A N G U A G E .   N O W   I ' M   C U R R E N T L Y   P U R S U I N G   M Y   B S C   D E G R E E   I N   S O F T W A R E   E N G I N E E R I N G   A T   D A F F O D I L   I N T E R N A T I O N A L   U N I V E R S I T Y   N E A R L Y   L O C A T E D   B E S I D E   D H A K A .   A L S O   I ' M   S K I L L F U L   A T   C ,   C + + ,   J A V A ,   J A V A S C R I P T   E T C\n"
     ]
    }
   ],
   "source": [
    "string=\"\"\"I want to be a software engineer. And i'm trying to get skilled on many language. Now I'm currently pursuing my Bsc degree in software engineering at Daffodil International University nearly located beside Dhaka. also i'm skillful at c, c++, java, javascript etc\"\"\"\n",
    "string1= list(map(str.upper, string))\n",
    "print(string1)\n",
    "string1=\" \".join(string1)\n",
    "print(string1)"
   ]
  },
  {
   "cell_type": "code",
   "execution_count": 83,
   "id": "cf66d9dd-7b2a-41c1-80c0-ca142d90ed06",
   "metadata": {},
   "outputs": [
    {
     "name": "stdout",
     "output_type": "stream",
     "text": [
      "[1, 4, 3, 16, 5, 3136, 7]\n"
     ]
    }
   ],
   "source": [
    "# map with lambda function\n",
    "lst=[1,2,3,4,5,56, 7]\n",
    "lst=list(map(lambda x: x**2 if x%2==0 else x,lst))\n",
    "print(lst)"
   ]
  },
  {
   "cell_type": "code",
   "execution_count": 89,
   "id": "04a6295e-5184-4bef-83f6-3ef11b91d486",
   "metadata": {},
   "outputs": [
    {
     "name": "stdout",
     "output_type": "stream",
     "text": [
      "[0, 1, 2, 3, 4, 5, 6, 7, 8, 9, 10, 11, 12, 13, 14, 15, 16, 17, 18, 19, 20, 21, 22, 23, 24, 25, 26, 27, 28, 29, 30, 31, 32, 33, 34, 35, 36, 37, 38, 39, 40, 41, 42, 43, 44, 45, 46, 47, 48, 49, 50, 51, 52, 53, 54, 55, 56, 57, 58, 59, 60, 61, 62, 63, 64, 65, 66, 67, 68, 69, 70, 71, 72, 73, 74, 75, 76, 77, 78, 79, 80, 81, 82, 83, 84, 85, 86, 87, 88, 89, 90, 91, 92, 93, 94, 95, 96, 97, 98, 99]\n",
      "[0, 2, 4, 6, 8, 10, 12, 14, 16, 18, 20, 22, 24, 26, 28, 30, 32, 34, 36, 38, 40, 42, 44, 46, 48, 50, 52, 54, 56, 58, 60, 62, 64, 66, 68, 70, 72, 74, 76, 78, 80, 82, 84, 86, 88, 90, 92, 94, 96, 98]\n"
     ]
    }
   ],
   "source": [
    "numbers=[x for x in range(100)]\n",
    "print(numbers)\n",
    "even=list(filter( lambda x: x%2==0,numbers))\n",
    "print(even)"
   ]
  },
  {
   "cell_type": "code",
   "execution_count": 91,
   "id": "28583851-7749-4e80-9b7f-35016ccae152",
   "metadata": {},
   "outputs": [
    {
     "name": "stdout",
     "output_type": "stream",
     "text": [
      "[51, 52, 53, 54, 55, 56, 57, 58, 59, 60, 61, 62, 63, 64, 65, 66, 67, 68, 69, 70, 71, 72, 73, 74, 75, 76, 77, 78, 79, 80, 81, 82, 83, 84, 85, 86, 87, 88, 89, 90, 91, 92, 93, 94, 95, 96, 97, 98, 99]\n"
     ]
    }
   ],
   "source": [
    "fifty_upper=list(filter(lambda x: x>50, numbers))\n",
    "print(fifty_upper)"
   ]
  },
  {
   "cell_type": "code",
   "execution_count": 93,
   "id": "35198893-d1b3-4b09-aee2-47b8f3ebe7f3",
   "metadata": {},
   "outputs": [
    {
     "name": "stdout",
     "output_type": "stream",
     "text": [
      "[1, 'Hello', [1, 2], True]\n"
     ]
    }
   ],
   "source": [
    "data=[0,1,'', None, 'Hello', [],[1,2], None, True, False, None]\n",
    "cleaned_data=list(filter(None, data))\n",
    "print(cleaned_data)"
   ]
  },
  {
   "cell_type": "code",
   "execution_count": 94,
   "id": "2e68ae2a-4508-48ab-b4c4-30f6448c8cfd",
   "metadata": {},
   "outputs": [
    {
     "name": "stdout",
     "output_type": "stream",
     "text": [
      "I   W A N T   T O   B E   A   S O F T W A R E   E N G I N E E R .   A N D   I ' M   T R Y I N G   T O   G E T   S K I L L E D   O N   M A N Y   L A N G U A G E .   N O W   I ' M   C U R R E N T L Y   P U R S U I N G   M Y   B S C   D E G R E E   I N   S O F T W A R E   E N G I N E E R I N G   A T   D A F F O D I L   I N T E R N A T I O N A L   U N I V E R S I T Y   N E A R L Y   L O C A T E D   B E S I D E   D H A K A .   A L S O   I ' M   S K I L L F U L   A T   C ,   C + + ,   J A V A ,   J A V A S C R I P T   E T C\n"
     ]
    }
   ],
   "source": [
    "print(string1)"
   ]
  },
  {
   "cell_type": "code",
   "execution_count": 95,
   "id": "fc0470d1-5253-4579-a428-c66410751daa",
   "metadata": {},
   "outputs": [
    {
     "name": "stdout",
     "output_type": "stream",
     "text": [
      "['I', 'A', 'O', 'E', 'A', 'O', 'A', 'E', 'E', 'I', 'E', 'E', 'A', 'I', 'I', 'O', 'E', 'I', 'E', 'O', 'A', 'A', 'U', 'A', 'E', 'O', 'I', 'U', 'E', 'U', 'U', 'I', 'E', 'E', 'E', 'I', 'O', 'A', 'E', 'E', 'I', 'E', 'E', 'I', 'A', 'A', 'O', 'I', 'I', 'E', 'A', 'I', 'O', 'A', 'U', 'I', 'E', 'I', 'E', 'A', 'O', 'A', 'E', 'E', 'I', 'E', 'A', 'A', 'A', 'O', 'I', 'I', 'U', 'A', 'A', 'A', 'A', 'A', 'I', 'E']\n"
     ]
    }
   ],
   "source": [
    "vowel=list(filter(lambda x: x in \"AEIOU\", string1))\n",
    "print(vowel)"
   ]
  },
  {
   "cell_type": "code",
   "execution_count": 97,
   "id": "70758a11-6ac9-427a-b492-4d104db0321b",
   "metadata": {},
   "outputs": [
    {
     "name": "stdout",
     "output_type": "stream",
     "text": [
      "I   A   O   E   A   O   A   E   E   I   E   E   A   I   I   O   E   I   E   O   A   A   U   A   E   O   I   U   E   U   U   I   E   E   E   I   O   A   E   E   I   E   E   I   A   A   O   I   I   E   A   I   O   A   U   I   E   I   E   A   O   A   E   E   I   E   A   A   A   O   I   I   U   A   A   A   A   A   I   E\n"
     ]
    }
   ],
   "source": [
    "vowel=\" \".join(vowel)\n",
    "print(vowel)"
   ]
  },
  {
   "cell_type": "code",
   "execution_count": 99,
   "id": "40e7ff56-1115-488f-8e6d-ca754668b3fb",
   "metadata": {},
   "outputs": [
    {
     "name": "stdout",
     "output_type": "stream",
     "text": [
      "['aaa', 'ccc', 'ddddd']\n"
     ]
    }
   ],
   "source": [
    "fruits=['aaa', 'bb', 'ccc', 'ddddd']\n",
    "filtering=list(filter(lambda x: len(x)>2, fruits))\n",
    "print(filtering)"
   ]
  },
  {
   "cell_type": "markdown",
   "id": "0a15ac9a-d3ab-4be4-96c4-c9a54ac5f105",
   "metadata": {},
   "source": [
    "## Reduce Funtion"
   ]
  },
  {
   "cell_type": "code",
   "execution_count": 100,
   "id": "2b59650c-5beb-4f9a-b9e7-fe08ac2c9f5e",
   "metadata": {},
   "outputs": [
    {
     "name": "stdout",
     "output_type": "stream",
     "text": [
      "78\n"
     ]
    }
   ],
   "source": [
    "from functools import reduce\n",
    "lst=[1,2,3,4,5,56, 7]\n",
    "summation=reduce(lambda x,y: x+y, lst)\n",
    "print(summation)"
   ]
  },
  {
   "cell_type": "code",
   "execution_count": 101,
   "id": "2a5ccfd1-0187-4e3d-9491-20ff1bcc9d86",
   "metadata": {},
   "outputs": [
    {
     "name": "stdout",
     "output_type": "stream",
     "text": [
      "56\n"
     ]
    }
   ],
   "source": [
    "lst=[1,2,3,4,5,56, 7]\n",
    "max_value=reduce(lambda x,y:x if x>y else y, lst)\n",
    "print(max_value)"
   ]
  },
  {
   "cell_type": "code",
   "execution_count": 103,
   "id": "d187ef8f-2485-43c3-b855-8c7af450b906",
   "metadata": {},
   "outputs": [
    {
     "name": "stdout",
     "output_type": "stream",
     "text": [
      "['hello', 'world', 'welcome', 'to', 'programming']\n"
     ]
    }
   ],
   "source": [
    "list=[\"hello\", \"world\", \"welcome\", \"to\", \"programming\"]\n",
    "print(list)"
   ]
  },
  {
   "cell_type": "code",
   "execution_count": 106,
   "id": "1d677935-fda8-44ad-8833-c30b41297b7a",
   "metadata": {},
   "outputs": [
    {
     "name": "stdout",
     "output_type": "stream",
     "text": [
      "hello world welcome to programming\n"
     ]
    }
   ],
   "source": [
    "string=reduce(lambda x,y: x+ \" \"+y, list)\n",
    "print(string)"
   ]
  },
  {
   "cell_type": "code",
   "execution_count": 107,
   "id": "6a092cdf-e5ff-438b-9b87-548e5b00b6ab",
   "metadata": {},
   "outputs": [
    {
     "name": "stdout",
     "output_type": "stream",
     "text": [
      "5\n"
     ]
    }
   ],
   "source": [
    "def add(a, b=2):\n",
    "    return a+b\n",
    "print(add(3))"
   ]
  },
  {
   "cell_type": "code",
   "execution_count": 108,
   "id": "03d9ac76-d6bf-42bf-abfc-c58fd12305db",
   "metadata": {},
   "outputs": [
    {
     "ename": "TypeError",
     "evalue": "'list' object is not callable",
     "output_type": "error",
     "traceback": [
      "\u001b[31m---------------------------------------------------------------------------\u001b[39m",
      "\u001b[31mTypeError\u001b[39m                                 Traceback (most recent call last)",
      "\u001b[36mCell\u001b[39m\u001b[36m \u001b[39m\u001b[32mIn[108]\u001b[39m\u001b[32m, line 1\u001b[39m\n\u001b[32m----> \u001b[39m\u001b[32m1\u001b[39m lst=\u001b[38;5;28;43mlist\u001b[39;49m\u001b[43m(\u001b[49m\u001b[38;5;28;43mfilter\u001b[39;49m\u001b[43m(\u001b[49m\u001b[38;5;28;43;01mlambda\u001b[39;49;00m\u001b[43m \u001b[49m\u001b[43mx\u001b[49m\u001b[43m:\u001b[49m\u001b[43m \u001b[49m\u001b[43mx\u001b[49m\u001b[43m%\u001b[49m\u001b[32;43m2\u001b[39;49m\u001b[43m==\u001b[49m\u001b[32;43m0\u001b[39;49m\u001b[43m,\u001b[49m\u001b[43m \u001b[49m\u001b[43m[\u001b[49m\u001b[32;43m1\u001b[39;49m\u001b[43m,\u001b[49m\u001b[32;43m2\u001b[39;49m\u001b[43m,\u001b[49m\u001b[32;43m3\u001b[39;49m\u001b[43m,\u001b[49m\u001b[32;43m4\u001b[39;49m\u001b[43m]\u001b[49m\u001b[43m)\u001b[49m\u001b[43m)\u001b[49m\n\u001b[32m      2\u001b[39m \u001b[38;5;28mprint\u001b[39m(lst)\n",
      "\u001b[31mTypeError\u001b[39m: 'list' object is not callable"
     ]
    }
   ],
   "source": [
    "lst=list(filter(lambda x: x%2==0, [1,2,3,4]))\n",
    "print(lst)"
   ]
  },
  {
   "cell_type": "code",
   "execution_count": null,
   "id": "1b38da1d-26fd-40dd-b9a9-ab57af2d43d4",
   "metadata": {},
   "outputs": [],
   "source": []
  }
 ],
 "metadata": {
  "kernelspec": {
   "display_name": "Python 3 (ipykernel)",
   "language": "python",
   "name": "python3"
  },
  "language_info": {
   "codemirror_mode": {
    "name": "ipython",
    "version": 3
   },
   "file_extension": ".py",
   "mimetype": "text/x-python",
   "name": "python",
   "nbconvert_exporter": "python",
   "pygments_lexer": "ipython3",
   "version": "3.13.5"
  }
 },
 "nbformat": 4,
 "nbformat_minor": 5
}
